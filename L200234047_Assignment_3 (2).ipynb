{
 "cells": [
  {
   "cell_type": "markdown",
   "id": "2b26c158-186f-4104-b82c-b9dd650b15e4",
   "metadata": {},
   "source": [
    "# Algorithms and Programming --  Assignment 3\n",
    "\n",
    "## Important: save this file in a specific sub-folder under your AlgoPro folder. For example, name that folder \"jupy_code\"  \n",
    "\n",
    "### First, change your NIM in the name of the file. Click <font color=\"red\">File -> Save as ... </font>\n",
    "\n",
    "Then fill the information below. To edit this cell, double click here.\n",
    "\n",
    "### Name: Nursaid Fadilah Rohman\n",
    "### NIM: L200234047\n",
    "### GitHub address: [My GitHub](https://github.com/Nursaidfadilah/Jupyt_Code_Algopro.git)\n",
    "\n",
    "#### Complete the code below and run it. Press `Shift` + `Enter`"
   ]
  },
  {
   "cell_type": "code",
   "execution_count": 1,
   "id": "a67dd37c-574e-48dc-afec-df93fab14339",
   "metadata": {},
   "outputs": [
    {
     "name": "stdout",
     "output_type": "stream",
     "text": [
      "NAMA: Nursaid Fadilah Romhman\n",
      "NIM : L200234047\n",
      "Kota: karanganyar\n",
      "Mon Oct 16 09:08:00 2023\n",
      "\n",
      "D:\\Algortithm\n",
      "C:\\Users\\lenovo\\AppData\\Local\\Programs\\Python\\Python311\\python.exe\n",
      "3.11.5 (tags/v3.11.5:cce6ba9, Aug 24 2023, 14:38:34) [MSC v.1936 64 bit (AMD64)]\n",
      " Volume in drive D is New Volume\n",
      " Volume Serial Number is 862E-7C5F\n",
      "\n"
     ]
    }
   ],
   "source": [
    "from time import ctime\n",
    "from os import getcwd, popen\n",
    "import sys\n",
    "nama = \"Nursaid Fadilah Romhman\"     ## Replace with your name.\n",
    "NIM = \"L200234047\"     ## Replace with your NIM.\n",
    "kota = \"karanganyar\"     ## Replace with your original city of residence.\n",
    "print(\"NAMA:\", nama)\n",
    "print(\"NIM :\", NIM)\n",
    "print(\"Kota:\", kota)\n",
    "print(ctime())\n",
    "print(\"\")\n",
    "print(getcwd())\n",
    "print(sys.executable)\n",
    "print(sys.version)\n",
    "print(popen(\"vol\").read())\n",
    "\n",
    "# RUN THE CODE ABOVE BY PRESSING SHIFT + ENTER"
   ]
  },
  {
   "cell_type": "markdown",
   "id": "4869103e-1cad-4722-b35c-0551986d7dc3",
   "metadata": {},
   "source": [
    "# 1\n",
    "#### Write a function that will remove n<sup>th</sup> character from a given string. Your function MUST be named: ```removeChar()```.\n",
    "#### Your function receives 2 arguments: the string and the index. It returns a new string: the original with a character removed.\n",
    "####\n",
    "#### Example: ```removeChar(\"Surakarta\", 1)``` will give you \"Srakarta\".\n",
    "#### Negative index is allowed: ```removeChar(\"Surakarta\", -2)``` will give you \"Surakara\"\n",
    "####\n",
    "#### If the index is out of range, it will return the original string.\n",
    "#### So, ```removeChar(\"Surakarta\", 100)``` will give you \"Surakarta\".\n",
    "####\n",
    "#### Your function can contain <font color=\"red\">only</font> the following keywords: ```if, elif, else, in, def, and, return, or```.\n",
    "#### Your function can contain <font color=\"red\">only</font> the following built-in functions: ```str(), int(), len()```. \n",
    "#### <font color=\"red\">NO OTHER KEYWORDS AND FUNCTIONS ARE ALLOWED</font>\n",
    "\n"
   ]
  },
  {
   "cell_type": "code",
   "execution_count": null,
   "id": "fde7a8dd-f180-4ec9-ab06-793573715011",
   "metadata": {},
   "outputs": [],
   "source": [
    "help(\"keywords\") # run this so that you know"
   ]
  },
  {
   "cell_type": "code",
   "execution_count": null,
   "id": "c23ccca3-141a-44bd-8078-4fec32f3d961",
   "metadata": {},
   "outputs": [],
   "source": [
    "## 1\n",
    "## \n",
    "def removeChar(       ):\n",
    "    # continue your function below\n",
    "    # ..."
   ]
  },
  {
   "cell_type": "code",
   "execution_count": null,
   "id": "e4af50c3-48b1-4cbc-8882-b8ab4ff8b6d1",
   "metadata": {},
   "outputs": [],
   "source": []
  },
  {
   "cell_type": "markdown",
   "id": "15d6ffd2-af4b-4a69-8c40-fc1c638856a7",
   "metadata": {},
   "source": [
    "# 2\n",
    "#### Write a function called ```buildTriangle()``` that will print a right-justified, wide-side-on-top, right \"triangle\" from single character with specific height.\n",
    "#### Your function will have two parameters: the height of the triangle and the character it uses.\n",
    "#### If the paramaters are ommitted, your function should build a triangle of height 5 with the character '*'.\n",
    "\n",
    "#### Example 1:\n",
    "```\n",
    "buildTriangle(3,'a') # will print:\n",
    "aaa\n",
    " aa\n",
    "  a\n",
    "```\n",
    "\n",
    "#### Example 2:\n",
    "```\n",
    "buildTriangle(4) # will print:\n",
    "****\n",
    " ***\n",
    "  **\n",
    "   *\n",
    "```\n",
    "\n",
    "#### Example 3:\n",
    "```\n",
    "buildTriangle() # will print:\n",
    "*****\n",
    " ****\n",
    "  ***\n",
    "   **\n",
    "    *\n",
    "```\n",
    "\n"
   ]
  },
  {
   "cell_type": "code",
   "execution_count": null,
   "id": "42e3c2e0-872a-4c07-ba3d-75c3e1ebd3a5",
   "metadata": {},
   "outputs": [],
   "source": [
    "## 2\n",
    "def buildTriangle(        ): \n",
    "    # continue your function below\n",
    "    # ..."
   ]
  },
  {
   "cell_type": "code",
   "execution_count": null,
   "id": "071da38d-7eb7-4e8e-9683-c65b125f64e9",
   "metadata": {},
   "outputs": [],
   "source": []
  },
  {
   "cell_type": "code",
   "execution_count": null,
   "id": "b9d9fd51-03c8-4b87-a042-63018ad205ba",
   "metadata": {},
   "outputs": [],
   "source": [
    "# Run this cell as-is\n",
    "buildTriangle(7,'o')"
   ]
  },
  {
   "cell_type": "code",
   "execution_count": null,
   "id": "1052bd35-911b-40d0-9bc6-0dd6144337bf",
   "metadata": {},
   "outputs": [],
   "source": [
    "# Run this cell as-is\n",
    "buildTriangle(6)"
   ]
  },
  {
   "cell_type": "code",
   "execution_count": null,
   "id": "1c55771c-f595-4f28-846e-6cd588fd482f",
   "metadata": {},
   "outputs": [],
   "source": [
    "# Run this cell as-is\n",
    "buildTriangle()"
   ]
  },
  {
   "cell_type": "markdown",
   "id": "faf7f59f-9af1-4bfc-9778-31e469404dba",
   "metadata": {},
   "source": [
    "# 3\n",
    "\n",
    "#### Write a function ```countOdds()``` that receives a list of integers and return the number of odd integers in the list. \n",
    "\n",
    "#### Examples:\n",
    "```\n",
    "countOdds( [1,4,3] )  # will return 2\n",
    "countOdds( [2,4,8] )  # will return 0\n",
    "```\n"
   ]
  },
  {
   "cell_type": "code",
   "execution_count": null,
   "id": "2b60f413-f211-468a-abab-fd506996d8a6",
   "metadata": {},
   "outputs": [],
   "source": [
    "## 3\n",
    "def countOdds(   ):\n",
    "    # continue your function below\n",
    "    # ..."
   ]
  },
  {
   "cell_type": "code",
   "execution_count": null,
   "id": "bb17cb0d-d059-40a4-bbe2-18eb8158b784",
   "metadata": {},
   "outputs": [],
   "source": [
    "## THIS IS A CODE-TESTING SCRIPT. Aim for \"True\" for all the equality tests.\n",
    "## \n",
    "## Do NOT edit this cell\n",
    "## JUST RUN IT BY PRESSING SHIFT + ENTER\n",
    "\n",
    "print( countOdds( [] )  == 0 )\n",
    "print( countOdds( [1] )  == 1 )\n",
    "print( countOdds( [1,2,3,4,5] ) == 3 )\n",
    "print( countOdds( list(range(100)) ) == 50 )"
   ]
  },
  {
   "cell_type": "code",
   "execution_count": null,
   "id": "a2a89ab0-e50e-4b61-9685-a77a1928882d",
   "metadata": {},
   "outputs": [],
   "source": []
  },
  {
   "cell_type": "markdown",
   "id": "ded9d953-d5dc-46f6-9320-549e9febff86",
   "metadata": {},
   "source": [
    "# 4\n",
    "\n",
    "#### Write a function ```swapFL()``` that receives a string and then swap the first and the last element.\n",
    "#### If the argument is an empty string, it will return an empty string.\n",
    "#### If the argument is a single string, it will return that same string.\n",
    "\n",
    "#### Your function can contain <font color=\"red\">only</font> the following keywords: ```if, elif, else, def, return ```.\n",
    "#### Your function can contain <font color=\"red\">only</font> the following built-in functions: ```str(), len()```. \n",
    "#### <font color=\"red\">NO OTHER KEYWORDS AND FUNCTIONS ARE ALLOWED</font>\n"
   ]
  },
  {
   "cell_type": "code",
   "execution_count": null,
   "id": "f2f0d605-e3aa-45de-9793-d45e36a8825e",
   "metadata": {},
   "outputs": [],
   "source": [
    "## 4\n",
    "def swapFL(    ):\n",
    "    # continue your function below\n",
    "    # ..."
   ]
  },
  {
   "cell_type": "code",
   "execution_count": null,
   "id": "f66e971f-e3ae-404b-b523-71a6c6a628f9",
   "metadata": {},
   "outputs": [],
   "source": [
    "swapFL('as')"
   ]
  },
  {
   "cell_type": "code",
   "execution_count": null,
   "id": "92c1b01b-75a8-4193-b6e3-e1508a7fab4e",
   "metadata": {},
   "outputs": [],
   "source": [
    "## THIS IS A CODE-TESTING SCRIPT. Aim for \"True\" for all the equality tests.\n",
    "## \n",
    "## Do NOT edit this cell\n",
    "## JUST RUN IT BY PRESSING SHIFT + ENTER\n",
    "\n",
    "print( swapFL('yogyakarta') == 'aogyakarty' )\n",
    "print( swapFL('solo') == 'ools' )\n",
    "print( swapFL('1234') == '4231' )\n",
    "print( swapFL('IF') == 'FI' )\n",
    "print( swapFL('T') == 'T' )\n",
    "print( swapFL('') == '' )"
   ]
  },
  {
   "cell_type": "code",
   "execution_count": null,
   "id": "8d2e2546-4572-4bff-aba4-28c6f7eaea38",
   "metadata": {},
   "outputs": [],
   "source": []
  },
  {
   "cell_type": "markdown",
   "id": "85da5029-0a04-4687-bf07-a57115d5f5c8",
   "metadata": {},
   "source": [
    "# _End of assignment._\n",
    "## RE-RUN all cells. In the menu above, click \"Run\" then \"Run All Cells\"\n",
    "## Save the file, then\n",
    "## PUSH your code to GitHub,\n",
    "## and check your GitHub page. Ensure that your work is displayed properly."
   ]
  },
  {
   "cell_type": "code",
   "execution_count": null,
   "id": "a7092d0d-c62d-4ebd-93d0-b77b9a00cbc7",
   "metadata": {},
   "outputs": [],
   "source": []
  }
 ],
 "metadata": {
  "kernelspec": {
   "display_name": "Python 3 (ipykernel)",
   "language": "python",
   "name": "python3"
  },
  "language_info": {
   "codemirror_mode": {
    "name": "ipython",
    "version": 3
   },
   "file_extension": ".py",
   "mimetype": "text/x-python",
   "name": "python",
   "nbconvert_exporter": "python",
   "pygments_lexer": "ipython3",
   "version": "3.11.5"
  }
 },
 "nbformat": 4,
 "nbformat_minor": 5
}

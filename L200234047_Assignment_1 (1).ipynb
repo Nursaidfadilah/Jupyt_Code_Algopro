{
 "cells": [
  {
   "cell_type": "markdown",
   "id": "2b26c158-186f-4104-b82c-b9dd650b15e4",
   "metadata": {},
   "source": [
    "# Algorithms and Programming --  Assignment 1\n",
    "\n",
    "## Important: save this file in a specific sub-folder under your AlgoPro folder. For example, name that folder \"jupy_code\"  \n",
    "\n",
    "### First, change your NIM in the name of the file. Click <font color=\"red\">File -> Save as ... </font>\n",
    "\n",
    "Then fill the information below. To edit this cell, double click here.\n",
    "\n",
    "### Name: Nursaid fadilah rohman \n",
    "### NIM: L200234047\n",
    "### GitHub address: here\n",
    "\n",
    "#### Complete the code below and run it. Press `Shift` + `Enter`"
   ]
  },
  {
   "cell_type": "code",
   "execution_count": null,
   "id": "a67dd37c-574e-48dc-afec-df93fab14339",
   "metadata": {},
   "outputs": [],
   "source": [
    "from time import ctime\n",
    "from os import getcwd, popen\n",
    "import sys\n",
    "nama = \"NAMA SAYA\"     ## Replace with your name.\n",
    "NIM = \"L200250999\"     ## Replace with your NIM.\n",
    "kota = \"Surakarta\"     ## Replace with your original city of residence.\n",
    "print(\"NAMA:\", nama)\n",
    "print(\"NIM :\", NIM)\n",
    "print(\"Kota:\", kota)\n",
    "print(ctime())\n",
    "print(\"\")\n",
    "print(getcwd())\n",
    "print(sys.executable)\n",
    "print(sys.version)\n",
    "print(popen(\"vol\").read())"
   ]
  },
  {
   "cell_type": "markdown",
   "id": "4869103e-1cad-4722-b35c-0551986d7dc3",
   "metadata": {},
   "source": [
    "# 1\n",
    "#### Using the while-loop construct, write code that will produce the output similar to the output in the cell that follows the code below.\n",
    "#### The 'Ahmad' and the '5' below are just examples of the keyboard input.\n",
    "#### If you put an 8 instead, then the multiplication will continue to \"8 times 8 is 64\".\n",
    "\n",
    "#### Note:\n",
    "The output below may disappear. You may want to do it first on another cell or on Thonny. \n",
    "\n",
    "Or, you can take a screenshot of the example output for your working reference. You can also \"save as\" this file as another ipynb file.\r\n",
    "\n",
    "\n"
   ]
  },
  {
   "cell_type": "code",
   "execution_count": 1,
   "id": "c23ccca3-141a-44bd-8078-4fec32f3d961",
   "metadata": {},
   "outputs": [
    {
     "name": "stdin",
     "output_type": "stream",
     "text": [
      "What is your name? > Ahmad\n",
      "Please enter a positive integer, Ahmad > 5\n"
     ]
    },
    {
     "name": "stdout",
     "output_type": "stream",
     "text": [
      "1 times 1 is 1\n",
      "2 times 2 is 4\n",
      "3 times 3 is 9\n",
      "4 times 4 is 16\n",
      "5 times 5 is 25\n",
      "Thank you Ahmad!\n",
      "Have a nice day!\n"
     ]
    }
   ],
   "source": [
    "## 1\n",
    "## your code below\n",
    "name = input(\"What is your name? >\")\n",
    "# ...."
   ]
  },
  {
   "cell_type": "code",
   "execution_count": null,
   "id": "34dcc8c6-1933-416b-95f9-b82147019d1a",
   "metadata": {},
   "outputs": [],
   "source": []
  },
  {
   "cell_type": "code",
   "execution_count": null,
   "id": "e4af50c3-48b1-4cbc-8882-b8ab4ff8b6d1",
   "metadata": {},
   "outputs": [],
   "source": []
  },
  {
   "cell_type": "markdown",
   "id": "15d6ffd2-af4b-4a69-8c40-fc1c638856a7",
   "metadata": {},
   "source": [
    "# 2\n",
    "\n",
    "#### Copy your code above to the cell below, and modify it so that when the count is on any multiplicity of 5, it will additionally produce \"It is a multiple of 5\" text.\n",
    "#### An example is shown in the output cell.\n",
    "\n",
    "Again, the output below may disappear. You may want to do it first on Thonny."
   ]
  },
  {
   "cell_type": "code",
   "execution_count": 2,
   "id": "42e3c2e0-872a-4c07-ba3d-75c3e1ebd3a5",
   "metadata": {},
   "outputs": [
    {
     "name": "stdin",
     "output_type": "stream",
     "text": [
      "What is your name? > Ahmad\n",
      "Please enter a positive integer, Ahmad > 17\n"
     ]
    },
    {
     "name": "stdout",
     "output_type": "stream",
     "text": [
      "1 times 1 is 1\n",
      "2 times 2 is 4\n",
      "3 times 3 is 9\n",
      "4 times 4 is 16\n",
      "5 times 5 is 25. It is a multiple of 5.\n",
      "6 times 6 is 36\n",
      "7 times 7 is 49\n",
      "8 times 8 is 64\n",
      "9 times 9 is 81\n",
      "10 times 10 is 100. It is a multiple of 5.\n",
      "11 times 11 is 121\n",
      "12 times 12 is 144\n",
      "13 times 13 is 169\n",
      "14 times 14 is 196\n",
      "15 times 15 is 225. It is a multiple of 5.\n",
      "16 times 16 is 256\n",
      "17 times 17 is 289\n",
      "Thank you Ahmad!\n",
      "Have a nice day!\n"
     ]
    }
   ],
   "source": [
    "## 2\n",
    "## your code below\n",
    "name = input(\"What is your name? >\")\n",
    "# ...\n"
   ]
  },
  {
   "cell_type": "code",
   "execution_count": null,
   "id": "b9d9fd51-03c8-4b87-a042-63018ad205ba",
   "metadata": {},
   "outputs": [],
   "source": []
  },
  {
   "cell_type": "code",
   "execution_count": null,
   "id": "1052bd35-911b-40d0-9bc6-0dd6144337bf",
   "metadata": {},
   "outputs": [],
   "source": []
  },
  {
   "cell_type": "markdown",
   "id": "40311218-fd27-42c0-a7e1-897c3b389f2d",
   "metadata": {},
   "source": [
    "# For-loops\n",
    "\n",
    "Now consider the following code and its output. Play with it."
   ]
  },
  {
   "cell_type": "code",
   "execution_count": 4,
   "id": "5ca8222e-992f-4e61-bad8-54042fdfaf5b",
   "metadata": {},
   "outputs": [
    {
     "name": "stdout",
     "output_type": "stream",
     "text": [
      "0\n",
      "1\n",
      "2\n",
      "3\n",
      "4\n",
      "5\n",
      "6\n"
     ]
    }
   ],
   "source": [
    "n = 7\n",
    "b = range(n)\n",
    "for i in b:\n",
    "    print(i)"
   ]
  },
  {
   "cell_type": "markdown",
   "id": "faf7f59f-9af1-4bfc-9778-31e469404dba",
   "metadata": {},
   "source": [
    "# 3\n",
    "\n",
    "Redo Question 1 above using the for-loop construct."
   ]
  },
  {
   "cell_type": "code",
   "execution_count": 13,
   "id": "2b60f413-f211-468a-abab-fd506996d8a6",
   "metadata": {},
   "outputs": [
    {
     "name": "stdin",
     "output_type": "stream",
     "text": [
      "What is your name? . said\n",
      "up to?  10\n"
     ]
    },
    {
     "name": "stdout",
     "output_type": "stream",
     "text": [
      "1 times 1 is 2\n",
      "1 times 2 is 4\n",
      "1 times 3 is 6\n",
      "1 times 4 is 8\n",
      "1 times 5 is 10\n",
      "1 times 6 is 12\n",
      "1 times 7 is 14\n",
      "1 times 8 is 16\n",
      "1 times 9 is 18\n",
      "1 times 10 is 20\n",
      "Thank you said\n",
      "have a nice day!\n"
     ]
    }
   ],
   "source": [
    "## 3\n",
    "## your code below \n",
    "name = input(\"What is your name? .\")\n",
    "#...\n",
    "p = int(input(\"up to? \"))\n",
    "for i in range (1, p + 1):\n",
    "    square = i + i \n",
    "    k = f\"{1} times {i} is {square}\"\n",
    "    print(k)\n",
    "print(\"Thank you \" + name )\n",
    "print(\"have a nice day!\")"
   ]
  },
  {
   "cell_type": "code",
   "execution_count": null,
   "id": "bb17cb0d-d059-40a4-bbe2-18eb8158b784",
   "metadata": {},
   "outputs": [],
   "source": []
  },
  {
   "cell_type": "code",
   "execution_count": null,
   "id": "a2a89ab0-e50e-4b61-9685-a77a1928882d",
   "metadata": {},
   "outputs": [],
   "source": []
  },
  {
   "cell_type": "markdown",
   "id": "9276e977-3b40-4d5f-ac13-27523e6908ea",
   "metadata": {},
   "source": [
    "# 4\n",
    "\n",
    "Redo Question 2 above using the for-loop construct."
   ]
  },
  {
   "cell_type": "code",
   "execution_count": 14,
   "id": "079680ec-5b2a-48c5-be3e-4f0a2d8fc02b",
   "metadata": {},
   "outputs": [
    {
     "name": "stdin",
     "output_type": "stream",
     "text": [
      "What is your name? > said\n",
      "up to?  50\n"
     ]
    },
    {
     "name": "stdout",
     "output_type": "stream",
     "text": [
      "1 times 1 is 2\n",
      "2 times 2 is 4\n",
      "3 times 3 is 6\n",
      "4 times 4 is 8\n",
      "5 times 5 is 10 . It is a multiple of 5.\n",
      "6 times 6 is 12\n",
      "7 times 7 is 14\n",
      "8 times 8 is 16\n",
      "9 times 9 is 18\n",
      "10 times 10 is 20 . It is a multiple of 5.\n",
      "11 times 11 is 22\n",
      "12 times 12 is 24\n",
      "13 times 13 is 26\n",
      "14 times 14 is 28\n",
      "15 times 15 is 30 . It is a multiple of 5.\n",
      "16 times 16 is 32\n",
      "17 times 17 is 34\n",
      "18 times 18 is 36\n",
      "19 times 19 is 38\n",
      "20 times 20 is 40 . It is a multiple of 5.\n",
      "21 times 21 is 42\n",
      "22 times 22 is 44\n",
      "23 times 23 is 46\n",
      "24 times 24 is 48\n",
      "25 times 25 is 50 . It is a multiple of 5.\n",
      "26 times 26 is 52\n",
      "27 times 27 is 54\n",
      "28 times 28 is 56\n",
      "29 times 29 is 58\n",
      "30 times 30 is 60 . It is a multiple of 5.\n",
      "31 times 31 is 62\n",
      "32 times 32 is 64\n",
      "33 times 33 is 66\n",
      "34 times 34 is 68\n",
      "35 times 35 is 70 . It is a multiple of 5.\n",
      "36 times 36 is 72\n",
      "37 times 37 is 74\n",
      "38 times 38 is 76\n",
      "39 times 39 is 78\n",
      "40 times 40 is 80 . It is a multiple of 5.\n",
      "41 times 41 is 82\n",
      "42 times 42 is 84\n",
      "43 times 43 is 86\n",
      "44 times 44 is 88\n",
      "45 times 45 is 90 . It is a multiple of 5.\n",
      "46 times 46 is 92\n",
      "47 times 47 is 94\n",
      "48 times 48 is 96\n",
      "49 times 49 is 98\n",
      "50 times 50 is 100 . It is a multiple of 5.\n",
      "Thank you said\n",
      "Have a nice today!\n"
     ]
    }
   ],
   "source": [
    "##4\n",
    "## your code below\n",
    "name = input (\"What is your name? >\")\n",
    "#...\n",
    "p = int(input(\"up to? \"))\n",
    "for i in range(1, p + 1):\n",
    "    square = i + i\n",
    "    k = f\"{i} times {i} is {square}\"\n",
    "    if square % 5 == 0:\n",
    "        print(k, \". It is a multiple of 5.\") \n",
    "    else:\n",
    "        print(k)\n",
    "print(\"Thank you \" + name)\n",
    "print(\"Have a nice today!\")"
   ]
  },
  {
   "cell_type": "code",
   "execution_count": null,
   "id": "1a1ac059-92fe-4622-bf13-ca913e6a5f4a",
   "metadata": {},
   "outputs": [],
   "source": []
  },
  {
   "cell_type": "code",
   "execution_count": null,
   "id": "18348d02-47c4-40b5-b04e-1d2eed0829da",
   "metadata": {},
   "outputs": [],
   "source": []
  },
  {
   "cell_type": "code",
   "execution_count": null,
   "id": "4f341e4e-ad65-4d52-806b-4620d4e19633",
   "metadata": {},
   "outputs": [],
   "source": []
  },
  {
   "cell_type": "markdown",
   "id": "85da5029-0a04-4687-bf07-a57115d5f5c8",
   "metadata": {},
   "source": [
    "# _End of assignment._\n",
    "### Run again once more time (and respond to the prompts). Then, after saving the file:\n",
    "## PUSH your code to GitHub,\n",
    "## and check your GitHub page. Ensure that your work is displayed properly."
   ]
  },
  {
   "cell_type": "code",
   "execution_count": null,
   "id": "a7092d0d-c62d-4ebd-93d0-b77b9a00cbc7",
   "metadata": {},
   "outputs": [],
   "source": []
  }
 ],
 "metadata": {
  "kernelspec": {
   "display_name": "Python 3 (ipykernel)",
   "language": "python",
   "name": "python3"
  },
  "language_info": {
   "codemirror_mode": {
    "name": "ipython",
    "version": 3
   },
   "file_extension": ".py",
   "mimetype": "text/x-python",
   "name": "python",
   "nbconvert_exporter": "python",
   "pygments_lexer": "ipython3",
   "version": "3.11.5"
  }
 },
 "nbformat": 4,
 "nbformat_minor": 5
}

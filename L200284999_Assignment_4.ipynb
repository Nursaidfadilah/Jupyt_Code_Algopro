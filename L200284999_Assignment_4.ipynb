{
 "cells": [
  {
   "cell_type": "markdown",
   "id": "2b26c158-186f-4104-b82c-b9dd650b15e4",
   "metadata": {},
   "source": [
    "# Algorithms and Programming --  Assignment 4: <font color=\"red\">PRE-EXAM Assignment </font>\n",
    "\n",
    "## Important: save this file in a specific sub-folder under your AlgoPro folder. For example, name that folder \"jupy_code\"  \n",
    "\n",
    "### First, change your NIM in the name of the file. Click <font color=\"red\">File -> Save as ... </font>\n",
    "\n",
    "Then fill the information below. To edit this cell, double click here.\n",
    "\n",
    "### Name: ....\n",
    "### NIM: ...\n",
    "### GitHub address: ...\n",
    "\n",
    "#### Complete the code below and run it. Press `Shift` + `Enter`"
   ]
  },
  {
   "cell_type": "code",
   "execution_count": null,
   "id": "a67dd37c-574e-48dc-afec-df93fab14339",
   "metadata": {},
   "outputs": [],
   "source": [
    "from time import ctime\n",
    "from os import getcwd, popen\n",
    "import sys\n",
    "nama = \"NAMA SAYA\"     ## Replace with your name.\n",
    "NIM = \"L200250999\"     ## Replace with your NIM.\n",
    "kota = \"Surakarta\"     ## Replace with your original city of residence.\n",
    "print(\"NAMA:\", nama)\n",
    "print(\"NIM :\", NIM)\n",
    "print(\"Kota:\", kota)\n",
    "print(ctime())\n",
    "print(\"\")\n",
    "print(getcwd())\n",
    "print(sys.executable)\n",
    "print(sys.version)\n",
    "print(popen(\"vol\").read())\n",
    "\n",
    "# RUN THE CODE ABOVE BY PRESSING SHIFT + ENTER while this cell is active."
   ]
  },
  {
   "cell_type": "markdown",
   "id": "67849740-2e71-4753-beee-7fd005c62a34",
   "metadata": {},
   "source": [
    "# 1\n",
    "#### Write a Python function that receives a positive integer and produces the length of the digit.\n",
    "#### Name that function ```digilen()```\n",
    "#### Example execution in a Python shell in Thonny:\n",
    "\n",
    "```\n",
    ">>> digilen(12)\n",
    "2\n",
    ">>> digilen(2500)\n",
    "4\n",
    ">>> digilen(12500)\n",
    "5\n",
    ">>> digilen(312500)\n",
    "6\n",
    "```\n",
    "\n",
    "#### You can (and may) do it in one line.\n"
   ]
  },
  {
   "cell_type": "code",
   "execution_count": 1,
   "id": "c23ccca3-141a-44bd-8078-4fec32f3d961",
   "metadata": {},
   "outputs": [],
   "source": [
    "## 1\n",
    "## \n",
    "def digilen(       ):\n",
    "    # continue your function below\n",
    "    # ..."
   ]
  },
  {
   "cell_type": "code",
   "execution_count": null,
   "id": "34dcc8c6-1933-416b-95f9-b82147019d1a",
   "metadata": {},
   "outputs": [],
   "source": [
    "## THIS IS A CODE-TESTING SCRIPT. Aim for \"True\" for all the equality tests.\n",
    "## \n",
    "## Do NOT edit this cell\n",
    "## JUST RUN IT BY PRESSING SHIFT + ENTER\n",
    "print( digilen(4) == 1 )\n",
    "print( digilen(12) == 2 )\n",
    "print( digilen(500) == 3 )\n",
    "print( digilen(1500) == 4 )\n",
    "print( digilen(10500) == 5 )\n",
    "print( digilen(300500) == 6 )\n",
    "print( digilen(7300500) == 7 )\n"
   ]
  },
  {
   "cell_type": "code",
   "execution_count": null,
   "id": "e4af50c3-48b1-4cbc-8882-b8ab4ff8b6d1",
   "metadata": {},
   "outputs": [],
   "source": []
  },
  {
   "cell_type": "markdown",
   "id": "15d6ffd2-af4b-4a69-8c40-fc1c638856a7",
   "metadata": {},
   "source": [
    "# 2\n",
    "#### Write a function called ```tria_repeat()``` that will print a left-justified triangle following the example below.\n",
    "#### Your function will have one parameter: the height of the triangle.\n",
    "\n",
    "#### Example:\n",
    "```\n",
    "tria_repeat(5) # will print:\n",
    "1\n",
    "2 2\n",
    "3 3 3\n",
    "4 4 4 4\n",
    "5 5 5 5 5\n",
    "```\n",
    "\n",
    "\n"
   ]
  },
  {
   "cell_type": "code",
   "execution_count": null,
   "id": "2b60f413-f211-468a-abab-fd506996d8a6",
   "metadata": {},
   "outputs": [],
   "source": [
    "## 3\n",
    "def countOdds(   ):\n",
    "    # continue your function below\n",
    "    # ..."
   ]
  },
  {
   "cell_type": "code",
   "execution_count": null,
   "id": "bb17cb0d-d059-40a4-bbe2-18eb8158b784",
   "metadata": {},
   "outputs": [],
   "source": [
    "## THIS IS A CODE-TESTING SCRIPT. Aim for \"True\" for all the equality tests.\n",
    "## \n",
    "## Do NOT edit this cell\n",
    "## JUST RUN IT BY PRESSING SHIFT + ENTER\n",
    "\n",
    "print( countOdds( [] )  == 0 )\n",
    "print( countOdds( [1] )  == 1 )\n",
    "print( countOdds( [1,2,3,4,5] ) == 3 )\n",
    "print( countOdds( list(range(100)) ) == 50 )"
   ]
  },
  {
   "cell_type": "code",
   "execution_count": null,
   "id": "a2a89ab0-e50e-4b61-9685-a77a1928882d",
   "metadata": {},
   "outputs": [],
   "source": []
  },
  {
   "cell_type": "code",
   "execution_count": 4,
   "id": "8d2e2546-4572-4bff-aba4-28c6f7eaea38",
   "metadata": {},
   "outputs": [],
   "source": [
    "## 2\n",
    "## \n",
    "def tria_repeat(       ):\n",
    "    # continue your function below\n",
    "    # ..."
   ]
  },
  {
   "cell_type": "code",
   "execution_count": null,
   "id": "b1580fba-5084-4c68-a0d3-15caaa41b88f",
   "metadata": {},
   "outputs": [],
   "source": [
    "# Run this. Do not modify.\n",
    "tria_repeat(9) "
   ]
  },
  {
   "cell_type": "markdown",
   "id": "71c59853-bb80-4ba1-a4aa-19894d9bba5e",
   "metadata": {},
   "source": [
    "# 2\n",
    "#### Write a function called ```tria_number()``` that will print a left-justified triangle following the example below.\n",
    "#### Your function will have one parameter: the height of the triangle.\n",
    "\n",
    "#### Example:\n",
    "```\n",
    "tria_number(5) # will print:\n",
    "1\n",
    "1 2\n",
    "1 2 3\n",
    "1 2 3 4\n",
    "1 2 3 4 5\n",
    "```\n"
   ]
  },
  {
   "cell_type": "code",
   "execution_count": null,
   "id": "0934aa24-b2bb-450c-8699-d3119d35afa6",
   "metadata": {},
   "outputs": [],
   "source": [
    "## 3\n",
    "## \n",
    "def tria_number(       ):\n",
    "    # continue your function below\n",
    "    # ..."
   ]
  },
  {
   "cell_type": "code",
   "execution_count": null,
   "id": "330573dd-0738-49ae-96bc-9e37f9e6287e",
   "metadata": {},
   "outputs": [],
   "source": [
    "# Run this. Do not modify.\n",
    "tria_number(9)"
   ]
  },
  {
   "cell_type": "markdown",
   "id": "64e30076-95b6-4cd7-9538-b6636dc1c4a2",
   "metadata": {},
   "source": [
    "# 3 \n",
    "#### Write a Python function that receives a single digit _n_ and returns nnnn + nnn + nn + n . Name it `the_4ns()`\n",
    "#### So, `the_4ns(5)` will return 6170. That is, 5555 + 555 + 55 + 5 = 6170\n",
    "\n",
    "Hint: you can do it in one line."
   ]
  },
  {
   "cell_type": "code",
   "execution_count": 5,
   "id": "c23a6878-a39d-4ca8-b1d4-9a41fc0a137e",
   "metadata": {},
   "outputs": [],
   "source": [
    "## 4\n",
    "## \n",
    "def the_4ns(  ):\n",
    "    # continue your function below\n",
    "    # ..."
   ]
  },
  {
   "cell_type": "code",
   "execution_count": null,
   "id": "dc8a3a69-05d8-4a14-8e75-a4c70b584a8e",
   "metadata": {},
   "outputs": [],
   "source": [
    "## THIS IS A CODE-TESTING SCRIPT. Aim for \"True\" for all the equality tests.\n",
    "## \n",
    "## Do NOT edit this cell\n",
    "## JUST RUN IT BY PRESSING SHIFT + ENTER\n",
    "print( the_4ns(1) == 1234 )\n",
    "print( the_4ns(2) == 2468 )\n",
    "print( the_4ns(3) == 3702 )\n",
    "print( the_4ns(4) == 4936 )\n",
    "print( the_4ns(5) == 6170 )\n",
    "print( the_4ns(9) == 11106 )"
   ]
  },
  {
   "cell_type": "code",
   "execution_count": null,
   "id": "86fa8cb6-4805-41fa-aac3-e89572e297a0",
   "metadata": {},
   "outputs": [],
   "source": []
  },
  {
   "cell_type": "markdown",
   "id": "89f8388e-6b5b-4e80-a9f9-32a8303aadeb",
   "metadata": {},
   "source": [
    "# 4\n",
    "#### Write a function to print multiplication table of a given number. Call it `multable()`.\n",
    "#### For example, `multable(2)` will print\n",
    "```\n",
    "2\n",
    "4\n",
    "6\n",
    "8\n",
    "10\n",
    "12\n",
    "14\n",
    "16\n",
    "18\n",
    "20\n",
    "```\n",
    "\n",
    "\n",
    "#### And `multable(3)` will print\n",
    "```\n",
    "3\n",
    "6\n",
    "9\n",
    "12\n",
    "15\n",
    "18\n",
    "21\n",
    "24\n",
    "27\n",
    "30\n",
    "```"
   ]
  },
  {
   "cell_type": "code",
   "execution_count": null,
   "id": "10c6216a-d3af-4ebe-85c3-de7b7a705852",
   "metadata": {},
   "outputs": [],
   "source": [
    "## 4\n",
    "## \n",
    "def multable(  ):\n",
    "     # continue your function below\n",
    "    # ..."
   ]
  },
  {
   "cell_type": "code",
   "execution_count": null,
   "id": "b8b6dbf8-94fc-42f3-badb-477dbcc2a0c5",
   "metadata": {},
   "outputs": [],
   "source": [
    "# Run this. Do not modify.\n",
    "multable(6)"
   ]
  },
  {
   "cell_type": "code",
   "execution_count": null,
   "id": "58321798-e298-4dd3-9ac6-d03af816ae0d",
   "metadata": {},
   "outputs": [],
   "source": [
    "# Run this. Do not modify.\n",
    "multable(7)"
   ]
  },
  {
   "cell_type": "code",
   "execution_count": null,
   "id": "7996f8ee-5fa7-492a-807d-9c2cbbd46e75",
   "metadata": {},
   "outputs": [],
   "source": []
  },
  {
   "cell_type": "markdown",
   "id": "7128ac83-dbdd-49b8-85fd-5ed98103d468",
   "metadata": {},
   "source": [
    "# 5\n",
    "#### Write a function that receives an integer and reverse the digit. Given 12 (twelve), it should return 21 (twenty one). \n",
    "#### Call it `digit_reverse()`.\n"
   ]
  },
  {
   "cell_type": "code",
   "execution_count": 8,
   "id": "f344a326-b5c0-464b-93a6-c38abc350020",
   "metadata": {},
   "outputs": [],
   "source": [
    "## 5\n",
    "## \n",
    "def digit_reverse(  ):\n",
    "     # continue your function below\n",
    "    # ..."
   ]
  },
  {
   "cell_type": "code",
   "execution_count": null,
   "id": "dc0fc538-9c63-4cd6-9b07-db212c444e6f",
   "metadata": {},
   "outputs": [],
   "source": [
    "## THIS IS A CODE-TESTING SCRIPT. Aim for \"True\" for all the equality tests.\n",
    "## \n",
    "## Do NOT edit this cell\n",
    "## JUST RUN IT BY PRESSING SHIFT + ENTER\n",
    "print( digit_reverse(1234) == 4321 )\n",
    "print( digit_reverse(123456789) == 987654321 )\n",
    "print( digit_reverse(2500) == 52 )"
   ]
  },
  {
   "cell_type": "code",
   "execution_count": null,
   "id": "d9ddb85e-7421-4967-a49e-d1127096f021",
   "metadata": {},
   "outputs": [],
   "source": []
  },
  {
   "cell_type": "markdown",
   "id": "f3c6f5df-c956-40f5-a121-e4e92facbc0e",
   "metadata": {},
   "source": [
    "# 6\n",
    "#### Write a function called `first_and_last()` that receives a string and returns the first and last character of that string, as a string.\n",
    "#### For example, `first_and_last(\"Yogyakarta\")` will return `'Ya'`. \n",
    "#### `first_and_last(\"Klaten\")` will return `'Kn'`. \n",
    "#### If the given string has only one character, it will return that same character.\n",
    "#### If the given string is an empty string, it will return an empty string.\n",
    "\n",
    "This is a very simple program. You should be able to do the same thing for other iterables.\n"
   ]
  },
  {
   "cell_type": "code",
   "execution_count": 13,
   "id": "8dd125f8-14c6-42c2-a26d-6d44c367f729",
   "metadata": {},
   "outputs": [],
   "source": [
    "## 6\n",
    "## \n",
    "def first_and_last(  ):\n",
    "     # continue your function below\n",
    "    # ..."
   ]
  },
  {
   "cell_type": "code",
   "execution_count": null,
   "id": "0fb8bae0-df69-4479-8ca5-8e3bc16f33a2",
   "metadata": {},
   "outputs": [],
   "source": [
    "## THIS IS A CODE-TESTING SCRIPT. Aim for \"True\" for all the equality tests.\n",
    "## \n",
    "## Do NOT edit this cell\n",
    "## JUST RUN IT BY PRESSING SHIFT + ENTER\n",
    "print( first_and_last(\"Yogyakarta\") == \"Ya\" )\n",
    "print( first_and_last(\"Surakarta\") == \"Sa\" )\n",
    "print( first_and_last(\"Klaten\") == \"Kn\" )\n",
    "print( first_and_last(\"S\") == \"S\" )\n",
    "print( first_and_last(\"\") == \"\" )\n",
    "\n"
   ]
  },
  {
   "cell_type": "code",
   "execution_count": null,
   "id": "5cc1acad-398f-4939-b972-cd98c5b1f444",
   "metadata": {},
   "outputs": [],
   "source": []
  },
  {
   "cell_type": "markdown",
   "id": "8b2ced4c-72c1-4099-82ba-0ebbb88eb722",
   "metadata": {},
   "source": [
    "# 7\n",
    "#### Write a function that takes two list of integers of the same size, and returns another list (of the same size) that contains the smaller of the two for each element. So if the input is [3,2,6,5,4] and [1,8,7,2,9] it will return [1,2,6,2,4]. Name the function `chooseSmaller()`.\n"
   ]
  },
  {
   "cell_type": "code",
   "execution_count": 19,
   "id": "1fd355e0-adcb-4312-89fa-00c2038a55af",
   "metadata": {},
   "outputs": [],
   "source": [
    "## 7\n",
    "## \n",
    "def chooseSmaller( A, B ):\n",
    "    # continue your function below\n",
    "    # ..."
   ]
  },
  {
   "cell_type": "code",
   "execution_count": null,
   "id": "bb391b30-7d04-4d58-81d9-398697764265",
   "metadata": {},
   "outputs": [],
   "source": [
    "## THIS IS A CODE-TESTING SCRIPT. Aim for \"True\" for all the equality tests.\n",
    "## \n",
    "## Do NOT edit this cell\n",
    "## JUST RUN IT BY PRESSING SHIFT + ENTER\n",
    "A = [3,2,6,5,4] ; B = [1,8,7,2,9];print( chooseSmaller( A, B ) == [1, 2, 6, 2, 4] );\n",
    "A = [8, 4, 5, 15, 14]; B = [19, 8, 14, 4, 13]; print( chooseSmaller( A, B ) == [8, 4, 5, 4, 13] );\n",
    "A = [4, 3, 1, 0, 5]; B = [4, 1, 0, 5, 2] ; print( chooseSmaller( A, B ) == [4, 1, 0, 0, 2] );\n",
    "A = [2, -9, 6, -4, 1, -5, 5, 0]; B = [-8, -4, -5, 1, -2, 4, -7, -10]; print( chooseSmaller( A, B ) == [-8, -9, -5, -4, -2, -5, -7, -10] );"
   ]
  },
  {
   "cell_type": "code",
   "execution_count": null,
   "id": "28307920-81d8-4050-b971-ce37522b48f6",
   "metadata": {},
   "outputs": [],
   "source": []
  },
  {
   "cell_type": "markdown",
   "id": "49a26bc5-5e6a-4d3c-8d49-312d590a8a45",
   "metadata": {},
   "source": [
    "# 8\n",
    "\n",
    "#### Write a function that receives an integer and print a text depending on the integer:\n",
    "- if the integer is negative, it will print \"That is a negative number.\" \n",
    "- if the integer is positive and less than five, it will print \"That is baby and kids age.\"\n",
    "- if the integer is 5 or bigger, it will print \"You can go to school.\"\n",
    "  - additionally, if the integer is greater than 20, it will print also \"But, are you sure?\"\n",
    " \n",
    "Name the function `school_age()`.\n",
    "\n",
    "#### Example of execution:\n",
    "```\n",
    ">>> school_age(-9)\r\n",
    "That is a negative number.\r\n",
    ">>> school_age(4)\r\n",
    "That is baby and kids age.\r\n",
    ">>> school_age(15)\r\n",
    "You can go to school.\r\n",
    ">>> school_age(25)\r\n",
    "You can go to school.\r\n",
    "But, are you sure?\r\n",
    ">>>\n",
    "```\n"
   ]
  },
  {
   "cell_type": "code",
   "execution_count": 33,
   "id": "beb6776e-2e24-40ef-8ffb-889b859fc817",
   "metadata": {},
   "outputs": [],
   "source": [
    "## 8\n",
    "## \n",
    "def school_age( n ):\n",
    "    # continue your function below\n",
    "    # ...\n",
    "        "
   ]
  },
  {
   "cell_type": "code",
   "execution_count": null,
   "id": "2eb57405-e74e-404b-849a-984c449b9ced",
   "metadata": {},
   "outputs": [],
   "source": []
  },
  {
   "cell_type": "code",
   "execution_count": null,
   "id": "c562c4a9-05bd-433a-b392-94370e26ebd3",
   "metadata": {},
   "outputs": [],
   "source": [
    "# Run this. Do not modify.\n",
    "school_age(-19)"
   ]
  },
  {
   "cell_type": "code",
   "execution_count": null,
   "id": "4f7ed536-a631-4a03-aa09-857d748da91e",
   "metadata": {},
   "outputs": [],
   "source": [
    "# Run this. Do not modify.\n",
    "school_age(4)"
   ]
  },
  {
   "cell_type": "code",
   "execution_count": null,
   "id": "2e412dab-4e40-4272-83b5-3eff1ab8c198",
   "metadata": {},
   "outputs": [],
   "source": [
    "# Run this. Do not modify.\n",
    "school_age(4)"
   ]
  },
  {
   "cell_type": "code",
   "execution_count": null,
   "id": "4522cc1c-ba3d-4a55-acd7-87dbf9d56d14",
   "metadata": {},
   "outputs": [],
   "source": [
    "# Run this. Do not modify.\n",
    "school_age(16)"
   ]
  },
  {
   "cell_type": "code",
   "execution_count": null,
   "id": "a904211c-08bb-40d0-8d01-cb44bfb953c9",
   "metadata": {},
   "outputs": [],
   "source": [
    "# Run this. Do not modify.\n",
    "school_age(30)"
   ]
  },
  {
   "cell_type": "code",
   "execution_count": null,
   "id": "0bf90efe-d362-42e0-9da3-dce0465d7c27",
   "metadata": {},
   "outputs": [],
   "source": []
  },
  {
   "cell_type": "markdown",
   "id": "9c9a15b9-0bdb-46cb-b18d-5db62bd7b1c7",
   "metadata": {},
   "source": [
    "# 9\n",
    "#### Make a Python function that receives a list of integers modify *the same list* so that it is now containing only the positive elements.\n",
    "#### The function does NOT return anything, and does NOT print anything. It only modify the same list.\n",
    "### Recall that a list is mutable.\n",
    "\n",
    "#### Name that function `only_positives()`. \n",
    "#### You need the `pop` method from the list data type.\n"
   ]
  },
  {
   "cell_type": "code",
   "execution_count": 37,
   "id": "745ecff4-2177-45c8-aba1-cc4f42823bbc",
   "metadata": {},
   "outputs": [],
   "source": [
    "## 8\n",
    "## \n",
    "def only_positives( L ):\n",
    "    # continue your function below\n",
    "    # ..."
   ]
  },
  {
   "cell_type": "code",
   "execution_count": null,
   "id": "4db258c1-356f-4b15-9258-d4fa8fa2ada1",
   "metadata": {},
   "outputs": [],
   "source": [
    "## THIS IS A CODE-TESTING SCRIPT. Aim for \"True\" for all the equality tests.\n",
    "## \n",
    "## Do NOT edit this cell\n",
    "## JUST RUN IT BY PRESSING SHIFT + ENTER\n",
    "A = [2, -9, 6, -4, 1, -5, 5, 0] ; only_positives( A ); print( A == [2, 6, 1, 5] )\n",
    "B = [0, -1, -2] ; only_positives( B ); print( B == [] )\n",
    "C = [2, 3, 4] ; only_positives( C ); print( C == [2, 3, 4] )"
   ]
  },
  {
   "cell_type": "code",
   "execution_count": null,
   "id": "c8506b90-3a0c-401b-8fba-012c584b39bc",
   "metadata": {},
   "outputs": [],
   "source": []
  },
  {
   "cell_type": "markdown",
   "id": "85da5029-0a04-4687-bf07-a57115d5f5c8",
   "metadata": {},
   "source": [
    "# _End of assignment._\n",
    "## RE-RUN all cells. In the menu above, click \"Run\" then \"Run All Cells\"\n",
    "## Save the file, then\n",
    "## PUSH your code to GitHub,\n",
    "## and check your GitHub page. Ensure that your work is displayed properly."
   ]
  },
  {
   "cell_type": "code",
   "execution_count": null,
   "id": "a7092d0d-c62d-4ebd-93d0-b77b9a00cbc7",
   "metadata": {},
   "outputs": [],
   "source": []
  }
 ],
 "metadata": {
  "kernelspec": {
   "display_name": "Python 3 (ipykernel)",
   "language": "python",
   "name": "python3"
  },
  "language_info": {
   "codemirror_mode": {
    "name": "ipython",
    "version": 3
   },
   "file_extension": ".py",
   "mimetype": "text/x-python",
   "name": "python",
   "nbconvert_exporter": "python",
   "pygments_lexer": "ipython3",
   "version": "3.11.5"
  }
 },
 "nbformat": 4,
 "nbformat_minor": 5
}

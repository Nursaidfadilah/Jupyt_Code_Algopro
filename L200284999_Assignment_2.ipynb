{
 "cells": [
  {
   "cell_type": "markdown",
   "id": "2b26c158-186f-4104-b82c-b9dd650b15e4",
   "metadata": {},
   "source": [
    "# Algorithms and Programming --  Assignment 2\n",
    "\n",
    "## Important: save this file in a specific sub-folder under your AlgoPro folder. For example, name that folder \"jupy_code\"  \n",
    "\n",
    "### First, change your NIM in the name of the file. Click <font color=\"red\">File -> Save as ... </font>\n",
    "\n",
    "Then fill the information below. To edit this cell, double click here.\n",
    "\n",
    "### Name: ....\n",
    "### NIM: ...\n",
    "### GitHub address: ...\n",
    "\n",
    "#### Complete the code below and run it. Press `Shift` + `Enter`"
   ]
  },
  {
   "cell_type": "code",
   "execution_count": 1,
   "id": "a67dd37c-574e-48dc-afec-df93fab14339",
   "metadata": {},
   "outputs": [
    {
     "name": "stdout",
     "output_type": "stream",
     "text": [
      "NAMA: NURSAID FADILAH ROHMAN\n",
      "NIM : L200234047\n",
      "Kota: KARANGANYAR\n",
      "Fri Oct  6 23:05:47 2023\n",
      "\n",
      "D:\\Algortithm\n",
      "C:\\Users\\lenovo\\AppData\\Local\\Programs\\Python\\Python311\\python.exe\n",
      "3.11.5 (tags/v3.11.5:cce6ba9, Aug 24 2023, 14:38:34) [MSC v.1936 64 bit (AMD64)]\n",
      " Volume in drive D is New Volume\n",
      " Volume Serial Number is 862E-7C5F\n",
      "\n"
     ]
    }
   ],
   "source": [
    "from time import ctime\n",
    "from os import getcwd, popen\n",
    "import sys\n",
    "nama = \"NURSAID FADILAH ROHMAN\"     ## Replace with your name.\n",
    "NIM = \"L200234047\"     ## Replace with your NIM.\n",
    "kota = \"KARANGANYAR\"     ## Replace with your original city of residence.\n",
    "print(\"NAMA:\", nama)\n",
    "print(\"NIM :\", NIM)\n",
    "print(\"Kota:\", kota)\n",
    "print(ctime())\n",
    "print(\"\")\n",
    "print(getcwd())\n",
    "print(sys.executable)\n",
    "print(sys.version)\n",
    "print(popen(\"vol\").read())\n",
    "\n",
    "# RUN THE CODE ABOVE BY PRESSING SHIFT + ENTER"
   ]
  },
  {
   "cell_type": "markdown",
   "id": "4869103e-1cad-4722-b35c-0551986d7dc3",
   "metadata": {},
   "source": [
    "# 1\n",
    "#### Write code that will produce the output similar to the output in the cell that follows the code below. \n",
    "#### The \"7\" and the \"y\" were examples of the keyboard input.\n",
    "\n",
    "#### Note:\n",
    "#### The output below may disappear. You may want to do it first on another cell or on Thonny. \n",
    "\n"
   ]
  },
  {
   "cell_type": "code",
   "execution_count": 3,
   "id": "c23ccca3-141a-44bd-8078-4fec32f3d961",
   "metadata": {},
   "outputs": [
    {
     "name": "stdin",
     "output_type": "stream",
     "text": [
      "How high? > y\n",
      "What is the character? > y\n"
     ]
    },
    {
     "name": "stdout",
     "output_type": "stream",
     "text": [
      "       y y\n",
      "      yy yy\n",
      "     yyy yyy\n",
      "    yyyy yyyy\n",
      "   yyyyy yyyyy\n",
      "  yyyyyy yyyyyy\n",
      " yyyyyyy yyyyyyy\n",
      "\n",
      "Thank you!\n"
     ]
    }
   ],
   "source": [
    "## 1\n",
    "## keep these two lines below.\n",
    "n = input('How high? >')  \n",
    "ch = input('What is the character? >')\n",
    "# continue your code:\n",
    "n = 7\n",
    "for i in range(1,n+1):\n",
    "    print(' '*(n-i),i*'y', 'y'*i)\n",
    "print(\"\\nThank you!\")\n"
   ]
  },
  {
   "cell_type": "code",
   "execution_count": null,
   "id": "34dcc8c6-1933-416b-95f9-b82147019d1a",
   "metadata": {},
   "outputs": [],
   "source": []
  },
  {
   "cell_type": "code",
   "execution_count": null,
   "id": "e4af50c3-48b1-4cbc-8882-b8ab4ff8b6d1",
   "metadata": {},
   "outputs": [],
   "source": []
  },
  {
   "cell_type": "markdown",
   "id": "15d6ffd2-af4b-4a69-8c40-fc1c638856a7",
   "metadata": {},
   "source": [
    "# 2\n",
    "#### Write code that will ask the user to input an integer and the program will tell whether the number typed is an odd or an even integer.\n",
    "#### After that, the user will be asked whether he/she wants to do it all over again. If he/she types 'y', then the process is repeated. Otherwise, it will print \"Thank you!\"\n",
    "\n",
    "#### An example is shown in the output cell.\n",
    "\n",
    "Again, the output below may disappear. You may want to do it first on Thonny."
   ]
  },
  {
   "cell_type": "code",
   "execution_count": 10,
   "id": "42e3c2e0-872a-4c07-ba3d-75c3e1ebd3a5",
   "metadata": {},
   "outputs": [
    {
     "name": "stdin",
     "output_type": "stream",
     "text": [
      "Enter an integer: >  2\n"
     ]
    },
    {
     "name": "stdout",
     "output_type": "stream",
     "text": [
      " 2 is an Even number\n"
     ]
    },
    {
     "name": "stdin",
     "output_type": "stream",
     "text": [
      "Do it again? y/n: >  7\n"
     ]
    },
    {
     "name": "stdout",
     "output_type": "stream",
     "text": [
      "\n",
      "Thank you!\n"
     ]
    }
   ],
   "source": [
    "## 2\n",
    "again = 'y' # to keep track if user wants to do it again\n",
    "## continue your code\n",
    "while True :\n",
    "    num = int(input(\"Enter an integer: > \"))\n",
    "    a = int(num)\n",
    "    if a % 2 == 0: \n",
    "        print (f\" {a} is an Even number\")\n",
    "    else:    \n",
    "        print (f\" {a} is an Odd number\") \n",
    "    opt = input(\"Do it again? y/n: > \")\n",
    "    if opt == \"y\":\n",
    "        True\n",
    "    else:\n",
    "        break \n",
    "print(\"\\nThank you!\" )\n"
   ]
  },
  {
   "cell_type": "code",
   "execution_count": null,
   "id": "b9d9fd51-03c8-4b87-a042-63018ad205ba",
   "metadata": {},
   "outputs": [],
   "source": []
  },
  {
   "cell_type": "code",
   "execution_count": null,
   "id": "1052bd35-911b-40d0-9bc6-0dd6144337bf",
   "metadata": {},
   "outputs": [],
   "source": []
  },
  {
   "cell_type": "markdown",
   "id": "faf7f59f-9af1-4bfc-9778-31e469404dba",
   "metadata": {},
   "source": [
    "# 3\n",
    "\n",
    "#### Copy your code from Question 2. The challenge is similar, but now the program will print how many times it has \"played\" the even-or-odd game.\n",
    "#### An example is shown in the output cell.\n",
    "\n",
    "You might want to code it first on Thonny.\n"
   ]
  },
  {
   "cell_type": "code",
   "execution_count": null,
   "id": "2b60f413-f211-468a-abab-fd506996d8a6",
   "metadata": {},
   "outputs": [
    {
     "name": "stdin",
     "output_type": "stream",
     "text": [
      "Enter an integer:>   2\n"
     ]
    },
    {
     "name": "stdout",
     "output_type": "stream",
     "text": [
      "2 is an even number\n"
     ]
    },
    {
     "name": "stdin",
     "output_type": "stream",
     "text": [
      "Do it again? y/n: >  5\n",
      "Enter an integer:>   4\n"
     ]
    },
    {
     "name": "stdout",
     "output_type": "stream",
     "text": [
      "4 is an even number\n"
     ]
    },
    {
     "name": "stdin",
     "output_type": "stream",
     "text": [
      "Do it again? y/n: >  9\n"
     ]
    }
   ],
   "source": [
    "## 3\n",
    "again = 'y' # to keep track if user wants to do it again.\n",
    "c = 0       # A variable to count how many times it is looping.\n",
    "# continue your code\n",
    "def play_game():\n",
    "    count = 0\n",
    "    while True:\n",
    "        num = int(input(\"Enter an integer:>  \"))\n",
    "        if num % 2 == 0:\n",
    "            print(f\"{num} is an even number\")\n",
    "        else:\n",
    "            print(f\"{num} is an odd number\")\n",
    "        count += 1\n",
    "        if input(\"Do it again? y/n: > \").lower() == \"n\":\n",
    "            break\n",
    "    print(f\"\\nWe played {count} times. That was fun!\\n\\nThank you!\")\n",
    "play_game() "
   ]
  },
  {
   "cell_type": "markdown",
   "id": "10a1992b-700c-472d-9b1a-1f367b32a1b0",
   "metadata": {},
   "source": []
  },
  {
   "cell_type": "code",
   "execution_count": null,
   "id": "a2a89ab0-e50e-4b61-9685-a77a1928882d",
   "metadata": {},
   "outputs": [],
   "source": []
  },
  {
   "cell_type": "code",
   "execution_count": null,
   "id": "4f341e4e-ad65-4d52-806b-4620d4e19633",
   "metadata": {},
   "outputs": [],
   "source": []
  },
  {
   "cell_type": "markdown",
   "id": "85da5029-0a04-4687-bf07-a57115d5f5c8",
   "metadata": {},
   "source": [
    "# _End of assignment._\n",
    "## Save the file, then\n",
    "## PUSH your code to GitHub,\n",
    "## and check your GitHub page. Ensure that your work is displayed properly."
   ]
  },
  {
   "cell_type": "code",
   "execution_count": null,
   "id": "a7092d0d-c62d-4ebd-93d0-b77b9a00cbc7",
   "metadata": {},
   "outputs": [],
   "source": []
  }
 ],
 "metadata": {
  "kernelspec": {
   "display_name": "Python 3 (ipykernel)",
   "language": "python",
   "name": "python3"
  },
  "language_info": {
   "codemirror_mode": {
    "name": "ipython",
    "version": 3
   },
   "file_extension": ".py",
   "mimetype": "text/x-python",
   "name": "python",
   "nbconvert_exporter": "python",
   "pygments_lexer": "ipython3",
   "version": "3.11.5"
  }
 },
 "nbformat": 4,
 "nbformat_minor": 5
}

{
 "cells": [
  {
   "cell_type": "code",
   "execution_count": 1,
   "id": "85facdac-3c27-45e8-8c12-c5ac3cbe7f1b",
   "metadata": {},
   "outputs": [],
   "source": [
    "name = \"said\""
   ]
  },
  {
   "cell_type": "code",
   "execution_count": 2,
   "id": "55d026a5-9c8b-4241-aa9d-b8474087a14a",
   "metadata": {},
   "outputs": [
    {
     "name": "stdout",
     "output_type": "stream",
     "text": [
      "hello said\n"
     ]
    }
   ],
   "source": [
    "print(\"hello\", name)"
   ]
  },
  {
   "cell_type": "code",
   "execution_count": null,
   "id": "a3063482-5d08-4846-8339-859c6bddeb28",
   "metadata": {},
   "outputs": [],
   "source": []
  }
 ],
 "metadata": {
  "kernelspec": {
   "display_name": "Python 3 (ipykernel)",
   "language": "python",
   "name": "python3"
  },
  "language_info": {
   "codemirror_mode": {
    "name": "ipython",
    "version": 3
   },
   "file_extension": ".py",
   "mimetype": "text/x-python",
   "name": "python",
   "nbconvert_exporter": "python",
   "pygments_lexer": "ipython3",
   "version": "3.11.5"
  }
 },
 "nbformat": 4,
 "nbformat_minor": 5
}
